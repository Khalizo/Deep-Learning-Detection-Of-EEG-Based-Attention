{
 "cells": [
  {
   "cell_type": "code",
   "execution_count": 1,
   "metadata": {},
   "outputs": [],
   "source": [
    "import tensorflow as tf\n",
    "import scipy.io as sc\n",
    "import numpy as np\n",
    "import random\n",
    "\n",
    "import time\n",
    "from sklearn import preprocessing"
   ]
  },
  {
   "cell_type": "code",
   "execution_count": 3,
   "metadata": {},
   "outputs": [],
   "source": [
    "# this function is used to transfer one column label to one hot label\n",
    "def one_hot(y_):\n",
    "    # Function to encode output labels from number indexes\n",
    "    # e.g.: [[5], [0], [3]] --> [[0, 0, 0, 0, 0, 1], [1, 0, 0, 0, 0, 0], [0, 0, 0, 1, 0, 0]]\n",
    "    y_ = y_.reshape(len(y_))\n",
    "    n_values = np.max(y_) + 1\n",
    "    return np.eye(n_values)[np.array(y_, dtype=np.int32)]"
   ]
  },
  {
   "cell_type": "code",
   "execution_count": 4,
   "metadata": {},
   "outputs": [
    {
     "name": "stdout",
     "output_type": "stream",
     "text": [
      "(29738, 65)\n"
     ]
    }
   ],
   "source": [
    "#  Data loading\n",
    "feature = sc.loadmat(\"S1_nolabel6.mat\")\n",
    "all = feature['S1_nolabel6']\n",
    "\n",
    "print (all.shape)"
   ]
  },
  {
   "cell_type": "code",
   "execution_count": 6,
   "metadata": {},
   "outputs": [],
   "source": [
    "np.random.shuffle(all)   # mix eeg_all\n",
    "\n",
    "final=2800*10\n",
    "all=all[0:final]\n",
    "feature_all =all[:,0:64]\n",
    "label=all[:,64:65]"
   ]
  },
  {
   "cell_type": "code",
   "execution_count": 7,
   "metadata": {},
   "outputs": [
    {
     "name": "stdout",
     "output_type": "stream",
     "text": [
      "(28000, 6)\n"
     ]
    }
   ],
   "source": [
    "#z-score\n",
    "feature_all=preprocessing.scale(feature_all)\n",
    "no_fea=feature_all.shape[-1]\n",
    "label_all=one_hot(label)\n",
    "print (label_all.shape)"
   ]
  },
  {
   "cell_type": "code",
   "execution_count": 11,
   "metadata": {},
   "outputs": [
    {
     "name": "stdout",
     "output_type": "stream",
     "text": [
      "cnn input feature shape (28000, 64)\n"
     ]
    },
    {
     "data": {
      "text/plain": [
       "array([[ 0.15216794,  0.27818856,  0.09246857, ..., -1.96168776,\n",
       "        -2.12677342, -1.417389  ],\n",
       "       [ 0.08690558,  0.22966216,  0.46209718, ...,  1.2527075 ,\n",
       "         1.36445553,  0.49009654],\n",
       "       [ 0.11953676,  0.32671496,  0.52638042, ...,  0.16130818,\n",
       "         0.15434828, -0.55035012],\n",
       "       ...,\n",
       "       [-0.8593987 , -0.72469035, -0.66285947, ..., -1.78227966,\n",
       "        -1.40349093, -1.22821688],\n",
       "       [ 1.44109963,  1.52369945,  1.77990353, ...,  0.34071629,\n",
       "         0.47426169, -0.21929891],\n",
       "       [ 2.69740013,  1.53987492,  1.81204515, ...,  0.47527237,\n",
       "         0.73853799,  0.28516008]])"
      ]
     },
     "execution_count": 11,
     "metadata": {},
     "output_type": "execute_result"
    }
   ],
   "source": [
    "n_classes=6\n",
    "###CNN code,\n",
    "feature_all=feature_all# the input data of CNN\n",
    "print (\"cnn input feature shape\", feature_all.shape)\n",
    "n_fea=feature_all.shape[-1]\n",
    "# label_all=one_hot(label_all)\n"
   ]
  }
 ],
 "metadata": {
  "kernelspec": {
   "display_name": "Python 3",
   "language": "python",
   "name": "python3"
  },
  "language_info": {
   "codemirror_mode": {
    "name": "ipython",
    "version": 3
   },
   "file_extension": ".py",
   "mimetype": "text/x-python",
   "name": "python",
   "nbconvert_exporter": "python",
   "pygments_lexer": "ipython3",
   "version": "3.7.7"
  }
 },
 "nbformat": 4,
 "nbformat_minor": 4
}
