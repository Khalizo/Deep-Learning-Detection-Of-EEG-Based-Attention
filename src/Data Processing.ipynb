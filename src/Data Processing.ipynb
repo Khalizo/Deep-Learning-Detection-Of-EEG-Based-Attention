{
 "cells": [
  {
   "cell_type": "code",
   "execution_count": 3,
   "metadata": {},
   "outputs": [],
   "source": [
    "import pandas as pd \n",
    "import numpy as np\n",
    "from numpy import array\n",
    "import os\n",
    "from pathlib import Path\n",
    "from collections import namedtuple"
   ]
  },
  {
   "cell_type": "markdown",
   "metadata": {},
   "source": [
    "### Traversing the folder "
   ]
  },
  {
   "cell_type": "markdown",
   "metadata": {},
   "source": [
    "- check the json data\n",
    "- check the whether the time start and time end are distinct\n",
    "- check whether there are 5 paragraphs"
   ]
  },
  {
   "cell_type": "code",
   "execution_count": null,
   "metadata": {},
   "outputs": [],
   "source": [
    "t_str = \"User015_test11_BDT_11_05-09-2019_recording0_U1567697316_EEG_rawEEGData.csv\"\n",
    "\n",
    "t_str = str.split(\"_\")"
   ]
  },
  {
   "cell_type": "code",
   "execution_count": 31,
   "metadata": {},
   "outputs": [],
   "source": [
    "File = namedtuple('File', 'name path')\n",
    "files = []\n",
    "\n",
    "# p = Path(\"/cs/home/ybk1/Dissertation/Experiment Anonymised Version\")\n",
    "p = Path(\"C:\\Users\\User\\OneDrive - University of St Andrews\\Modules\\CS5099\\4. Data Documents\\dataset\\INSTRUMENTED DIGITAL AND PAPER READINGDATASET\\Experiment Anonymised Version\")"
   ]
  },
  {
   "cell_type": "code",
   "execution_count": 32,
   "metadata": {},
   "outputs": [],
   "source": [
    "for item in p.glob('**/*'):\n",
    "    if item.match('*rawEEGData.csv') and \"baseline\" not in item.name:\n",
    "        name = item.name\n",
    "        path = Path.resolve(item).parent\n",
    "        \n",
    "        files.append(File(name,path ))"
   ]
  },
  {
   "cell_type": "code",
   "execution_count": 35,
   "metadata": {},
   "outputs": [],
   "source": [
    "df = pd.DataFrame(files)\n",
    "\n",
    "df.to_csv(\"All EEG files.csv\", index=False)"
   ]
  },
  {
   "cell_type": "code",
   "execution_count": 26,
   "metadata": {},
   "outputs": [],
   "source": [
    "df = pd.DataFrame(files)"
   ]
  },
  {
   "cell_type": "markdown",
   "metadata": {},
   "source": [
    "### Loading the data "
   ]
  },
  {
   "cell_type": "code",
   "execution_count": 13,
   "metadata": {},
   "outputs": [],
   "source": [
    "s_dir = \"/cs/home/ybk1/Dissertation/Experiment Anonymised Version/User001_Group_Test_30-08-2019--10-07-00/User001_test1_BET_01_30-08-2019/User001_test1_BET_01_30-08-2019_recording0/\"\n",
    "s_csv = \"User001_test1_BET_01_30-08-2019_recording0_U1567156556_EEG_rawEEGData.csv\"\n",
    "s_json = \"annotations.json\""
   ]
  },
  {
   "cell_type": "code",
   "execution_count": 14,
   "metadata": {},
   "outputs": [],
   "source": [
    "s_data = pd.read_csv(s_dir + s_csv)"
   ]
  },
  {
   "cell_type": "code",
   "execution_count": 32,
   "metadata": {},
   "outputs": [],
   "source": [
    "pd_labels = pd.read_json(s_dir + s_json)"
   ]
  },
  {
   "cell_type": "code",
   "execution_count": 31,
   "metadata": {},
   "outputs": [],
   "source": [
    "def check_json(labels):\n",
    "    #check whether the\n",
    "    if len(labels) != 5:\n",
    "        print (\"There are less than 5 Paragragraphs in the dataset\")\n",
    "    else:\n",
    "        print(\"There are 5 paragraphs in the dataset\")\n",
    "    \n",
    "    cols = [\"timeRangeStart\", \"timeRangeEnd\"]\n",
    "    for col in cols:\n",
    "        array_length= len(array(labels[col]))\n",
    "        set_length = len(set(array(labels[col])))\n",
    "        if array_length == set_length:\n",
    "            print(col + \" has distinct values\")\n",
    "        else: \n",
    "            print(col + \" does not have distinct values\")    \n",
    "    "
   ]
  },
  {
   "cell_type": "code",
   "execution_count": 33,
   "metadata": {},
   "outputs": [
    {
     "name": "stdout",
     "output_type": "stream",
     "text": [
      "There are 5 paragraphs in the dataset\n",
      "timeRangeStart has distinct values\n",
      "timeRangeEnd has distinct values\n"
     ]
    }
   ],
   "source": [
    "check_json(pd_labels)"
   ]
  },
  {
   "cell_type": "code",
   "execution_count": 27,
   "metadata": {},
   "outputs": [
    {
     "name": "stdout",
     "output_type": "stream",
     "text": [
      "5\n"
     ]
    }
   ],
   "source": [
    "labels = array(pd.read_json(s_dir + s_json))\n",
    "labels\n",
    "\n",
    "print(len(labels))"
   ]
  },
  {
   "cell_type": "code",
   "execution_count": 17,
   "metadata": {},
   "outputs": [
    {
     "data": {
      "text/html": [
       "<div>\n",
       "<style scoped>\n",
       "    .dataframe tbody tr th:only-of-type {\n",
       "        vertical-align: middle;\n",
       "    }\n",
       "\n",
       "    .dataframe tbody tr th {\n",
       "        vertical-align: top;\n",
       "    }\n",
       "\n",
       "    .dataframe thead th {\n",
       "        text-align: right;\n",
       "    }\n",
       "</style>\n",
       "<table border=\"1\" class=\"dataframe\">\n",
       "  <thead>\n",
       "    <tr style=\"text-align: right;\">\n",
       "      <th></th>\n",
       "      <th>C1</th>\n",
       "      <th>C2</th>\n",
       "      <th>C3</th>\n",
       "      <th>C4</th>\n",
       "      <th>C5</th>\n",
       "      <th>C6</th>\n",
       "      <th>C7</th>\n",
       "      <th>C8</th>\n",
       "      <th>Timestamp</th>\n",
       "      <th>AdjustedUnix</th>\n",
       "    </tr>\n",
       "  </thead>\n",
       "  <tbody>\n",
       "    <tr>\n",
       "      <th>0</th>\n",
       "      <td>172495.625000</td>\n",
       "      <td>-16886.330078</td>\n",
       "      <td>200873.203125</td>\n",
       "      <td>188091.968750</td>\n",
       "      <td>179837.921875</td>\n",
       "      <td>157221.484375</td>\n",
       "      <td>172901.453125</td>\n",
       "      <td>205096.406250</td>\n",
       "      <td>1.106530e+06</td>\n",
       "      <td>1567155478</td>\n",
       "    </tr>\n",
       "    <tr>\n",
       "      <th>1</th>\n",
       "      <td>172504.875000</td>\n",
       "      <td>-16903.593750</td>\n",
       "      <td>200863.953125</td>\n",
       "      <td>188080.625000</td>\n",
       "      <td>179839.968750</td>\n",
       "      <td>157228.671875</td>\n",
       "      <td>172908.046875</td>\n",
       "      <td>205104.468750</td>\n",
       "      <td>1.106546e+06</td>\n",
       "      <td>1567155478</td>\n",
       "    </tr>\n",
       "    <tr>\n",
       "      <th>2</th>\n",
       "      <td>172504.875000</td>\n",
       "      <td>-16900.970703</td>\n",
       "      <td>200869.828125</td>\n",
       "      <td>188084.484375</td>\n",
       "      <td>179827.421875</td>\n",
       "      <td>157230.437500</td>\n",
       "      <td>172899.984375</td>\n",
       "      <td>205099.328125</td>\n",
       "      <td>1.106552e+06</td>\n",
       "      <td>1567155478</td>\n",
       "    </tr>\n",
       "    <tr>\n",
       "      <th>3</th>\n",
       "      <td>172494.234375</td>\n",
       "      <td>-16878.892578</td>\n",
       "      <td>200887.421875</td>\n",
       "      <td>188101.031250</td>\n",
       "      <td>179807.015625</td>\n",
       "      <td>157225.671875</td>\n",
       "      <td>172880.484375</td>\n",
       "      <td>205080.203125</td>\n",
       "      <td>1.106564e+06</td>\n",
       "      <td>1567155478</td>\n",
       "    </tr>\n",
       "    <tr>\n",
       "      <th>4</th>\n",
       "      <td>172478.031250</td>\n",
       "      <td>-16841.746094</td>\n",
       "      <td>200913.218750</td>\n",
       "      <td>188126.875000</td>\n",
       "      <td>179780.843750</td>\n",
       "      <td>157215.750000</td>\n",
       "      <td>172855.921875</td>\n",
       "      <td>205053.781250</td>\n",
       "      <td>1.106573e+06</td>\n",
       "      <td>1567155478</td>\n",
       "    </tr>\n",
       "    <tr>\n",
       "      <th>...</th>\n",
       "      <td>...</td>\n",
       "      <td>...</td>\n",
       "      <td>...</td>\n",
       "      <td>...</td>\n",
       "      <td>...</td>\n",
       "      <td>...</td>\n",
       "      <td>...</td>\n",
       "      <td>...</td>\n",
       "      <td>...</td>\n",
       "      <td>...</td>\n",
       "    </tr>\n",
       "    <tr>\n",
       "      <th>7950</th>\n",
       "      <td>173914.171875</td>\n",
       "      <td>-15843.916992</td>\n",
       "      <td>202884.406250</td>\n",
       "      <td>189654.281250</td>\n",
       "      <td>181753.281250</td>\n",
       "      <td>158724.234375</td>\n",
       "      <td>174455.046875</td>\n",
       "      <td>206533.453125</td>\n",
       "      <td>1.180984e+06</td>\n",
       "      <td>1567155492</td>\n",
       "    </tr>\n",
       "    <tr>\n",
       "      <th>7951</th>\n",
       "      <td>173923.171875</td>\n",
       "      <td>-15895.368164</td>\n",
       "      <td>202846.265625</td>\n",
       "      <td>189616.031250</td>\n",
       "      <td>181770.343750</td>\n",
       "      <td>158725.187500</td>\n",
       "      <td>174474.968750</td>\n",
       "      <td>206554.109375</td>\n",
       "      <td>1.180989e+06</td>\n",
       "      <td>1567155492</td>\n",
       "    </tr>\n",
       "    <tr>\n",
       "      <th>7952</th>\n",
       "      <td>173942.156250</td>\n",
       "      <td>-15927.840820</td>\n",
       "      <td>202824.515625</td>\n",
       "      <td>189593.000000</td>\n",
       "      <td>181788.562500</td>\n",
       "      <td>158735.390625</td>\n",
       "      <td>174497.203125</td>\n",
       "      <td>206578.468750</td>\n",
       "      <td>1.180995e+06</td>\n",
       "      <td>1567155492</td>\n",
       "    </tr>\n",
       "    <tr>\n",
       "      <th>7953</th>\n",
       "      <td>173954.500000</td>\n",
       "      <td>-15934.993164</td>\n",
       "      <td>202822.515625</td>\n",
       "      <td>189589.468750</td>\n",
       "      <td>181798.390625</td>\n",
       "      <td>158746.312500</td>\n",
       "      <td>174507.109375</td>\n",
       "      <td>206589.578125</td>\n",
       "      <td>1.181003e+06</td>\n",
       "      <td>1567155493</td>\n",
       "    </tr>\n",
       "    <tr>\n",
       "      <th>7954</th>\n",
       "      <td>173950.125000</td>\n",
       "      <td>-15925.027344</td>\n",
       "      <td>202832.203125</td>\n",
       "      <td>189597.812500</td>\n",
       "      <td>181786.703125</td>\n",
       "      <td>158745.062500</td>\n",
       "      <td>174496.140625</td>\n",
       "      <td>206576.140625</td>\n",
       "      <td>1.181014e+06</td>\n",
       "      <td>1567155493</td>\n",
       "    </tr>\n",
       "  </tbody>\n",
       "</table>\n",
       "<p>7955 rows × 10 columns</p>\n",
       "</div>"
      ],
      "text/plain": [
       "                 C1            C2             C3             C4  \\\n",
       "0     172495.625000 -16886.330078  200873.203125  188091.968750   \n",
       "1     172504.875000 -16903.593750  200863.953125  188080.625000   \n",
       "2     172504.875000 -16900.970703  200869.828125  188084.484375   \n",
       "3     172494.234375 -16878.892578  200887.421875  188101.031250   \n",
       "4     172478.031250 -16841.746094  200913.218750  188126.875000   \n",
       "...             ...           ...            ...            ...   \n",
       "7950  173914.171875 -15843.916992  202884.406250  189654.281250   \n",
       "7951  173923.171875 -15895.368164  202846.265625  189616.031250   \n",
       "7952  173942.156250 -15927.840820  202824.515625  189593.000000   \n",
       "7953  173954.500000 -15934.993164  202822.515625  189589.468750   \n",
       "7954  173950.125000 -15925.027344  202832.203125  189597.812500   \n",
       "\n",
       "                 C5             C6             C7             C8  \\\n",
       "0     179837.921875  157221.484375  172901.453125  205096.406250   \n",
       "1     179839.968750  157228.671875  172908.046875  205104.468750   \n",
       "2     179827.421875  157230.437500  172899.984375  205099.328125   \n",
       "3     179807.015625  157225.671875  172880.484375  205080.203125   \n",
       "4     179780.843750  157215.750000  172855.921875  205053.781250   \n",
       "...             ...            ...            ...            ...   \n",
       "7950  181753.281250  158724.234375  174455.046875  206533.453125   \n",
       "7951  181770.343750  158725.187500  174474.968750  206554.109375   \n",
       "7952  181788.562500  158735.390625  174497.203125  206578.468750   \n",
       "7953  181798.390625  158746.312500  174507.109375  206589.578125   \n",
       "7954  181786.703125  158745.062500  174496.140625  206576.140625   \n",
       "\n",
       "         Timestamp   AdjustedUnix  \n",
       "0     1.106530e+06     1567155478  \n",
       "1     1.106546e+06     1567155478  \n",
       "2     1.106552e+06     1567155478  \n",
       "3     1.106564e+06     1567155478  \n",
       "4     1.106573e+06     1567155478  \n",
       "...            ...            ...  \n",
       "7950  1.180984e+06     1567155492  \n",
       "7951  1.180989e+06     1567155492  \n",
       "7952  1.180995e+06     1567155492  \n",
       "7953  1.181003e+06     1567155493  \n",
       "7954  1.181014e+06     1567155493  \n",
       "\n",
       "[7955 rows x 10 columns]"
      ]
     },
     "execution_count": 17,
     "metadata": {},
     "output_type": "execute_result"
    }
   ],
   "source": [
    "s_data"
   ]
  },
  {
   "cell_type": "code",
   "execution_count": 18,
   "metadata": {},
   "outputs": [],
   "source": [
    "# first create zero columns\n",
    "# then iterate through the each row and check if it is there\n"
   ]
  },
  {
   "cell_type": "code",
   "execution_count": 19,
   "metadata": {},
   "outputs": [],
   "source": [
    "def label(timestamp,annotation):\n",
    "    for row in labels:\n",
    "        time_start = row[-2]\n",
    "        time_end = row[-1]\n",
    "        ann_dict = {\"effort\": row[-3], \"attention\": row[-4], \"interest\": row[-5],\"para\": row[-6]}\n",
    "        if timestamp >= time_start and timestamp < time_end:\n",
    "            return ann_dict[annotation]     \n",
    "        "
   ]
  },
  {
   "cell_type": "code",
   "execution_count": 20,
   "metadata": {},
   "outputs": [],
   "source": [
    "def process_data(data):\n",
    "    annotations = [\"effort\", \"attention\", \"interest\", \"para\"]\n",
    "    for ann in annotations:\n",
    "        data[ann] = data[\"Timestamp\"].apply(label, annotation=ann)\n",
    "    print(\"Processed: {}\".format(len(data)))\n",
    "    print(\"Empty rows \\n{}\".format(data.isnull().sum()))\n",
    "    data = data.dropna()\n",
    "    data.to_csv(\"pc.csv\")\n",
    "    print(len(data))\n",
    "    return data   "
   ]
  },
  {
   "cell_type": "code",
   "execution_count": 25,
   "metadata": {},
   "outputs": [],
   "source": [
    "def generate_datasets(processed):\n",
    "    X = processed.iloc[:,:9]\n",
    "    labels = ['interest', 'effort', 'attention']\n",
    "    for label in labels:\n",
    "        dataset = pd.concat([X, processed[label]], axis=1).to_csv('EEG_' + label + '_dataset.csv')   \n"
   ]
  },
  {
   "cell_type": "code",
   "execution_count": 26,
   "metadata": {},
   "outputs": [
    {
     "name": "stdout",
     "output_type": "stream",
     "text": [
      "Processed: 7955\n",
      "Empty rows \n",
      "C1                 0\n",
      "C2                 0\n",
      "C3                 0\n",
      "C4                 0\n",
      "C5                 0\n",
      "C6                 0\n",
      "C7                 0\n",
      "C8                 0\n",
      "Timestamp          0\n",
      " AdjustedUnix      0\n",
      "effort           411\n",
      "attention        411\n",
      "interest         411\n",
      "para             411\n",
      "dtype: int64\n",
      "7544\n"
     ]
    }
   ],
   "source": [
    "processed = process_data(s_data)\n",
    "generate_datasets(processed)"
   ]
  }
 ],
 "metadata": {
  "kernelspec": {
   "display_name": "Python 3",
   "language": "python",
   "name": "python3"
  },
  "language_info": {
   "codemirror_mode": {
    "name": "ipython",
    "version": 3
   },
   "file_extension": ".py",
   "mimetype": "text/x-python",
   "name": "python",
   "nbconvert_exporter": "python",
   "pygments_lexer": "ipython3",
   "version": "3.7.4"
  }
 },
 "nbformat": 4,
 "nbformat_minor": 4
}
